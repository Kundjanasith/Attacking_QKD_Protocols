{
 "cells": [
  {
   "cell_type": "code",
   "execution_count": 5,
   "metadata": {},
   "outputs": [],
   "source": [
    "from random import choice as IDK\n",
    "from qiskit import *"
   ]
  },
  {
   "cell_type": "code",
   "execution_count": 6,
   "metadata": {},
   "outputs": [],
   "source": [
    "def measure_plus(qc):\n",
    "    qc.measure(0, 0)\n",
    "def measure_cross(qc):\n",
    "    qc.h(0)\n",
    "    qc.measure(0, 0)"
   ]
  },
  {
   "cell_type": "code",
   "execution_count": 11,
   "metadata": {},
   "outputs": [],
   "source": [
    "def prepare():\n",
    "    a = IDK([0, 1])  # X or not\n",
    "    b = IDK([0, 1])  # H or not\n",
    "    qc = QuantumCircuit(1, 1)\n",
    "    basis = \"+\"\n",
    "    # a, b = 0, 1\n",
    "    if a:\n",
    "        qc.x(0)\n",
    "    if b:\n",
    "        qc.h(0)\n",
    "        basis = \"*\"\n",
    "    print(f\"Expected Output: {a} in {basis} basis!\")\n",
    "    return qc, a, b"
   ]
  },
  {
   "cell_type": "code",
   "execution_count": 23,
   "metadata": {},
   "outputs": [
    {
     "name": "stdout",
     "output_type": "stream",
     "text": [
      "Expected Output: 1 in + basis!\n"
     ]
    },
    {
     "data": {
      "text/plain": [
       "{'0': 539, '1': 485}"
      ]
     },
     "execution_count": 23,
     "metadata": {},
     "output_type": "execute_result"
    }
   ],
   "source": [
    "qc, a, b = prepare()\n",
    "measure_cross(qc)\n",
    "\n",
    "comp = Aer.get_backend(\"qasm_simulator\")\n",
    "# results = list(execute(qc, comp, shots = 1).result().get_counts().keys())[0]\n",
    "results = execute(qc, comp, shots = 1024).result().get_counts()\n",
    "results"
   ]
  }
 ],
 "metadata": {
  "kernelspec": {
   "display_name": "Python 3.9.13 64-bit (windows store)",
   "language": "python",
   "name": "python3"
  },
  "language_info": {
   "codemirror_mode": {
    "name": "ipython",
    "version": 3
   },
   "file_extension": ".py",
   "mimetype": "text/x-python",
   "name": "python",
   "nbconvert_exporter": "python",
   "pygments_lexer": "ipython3",
   "version": "3.9.13"
  },
  "orig_nbformat": 4,
  "vscode": {
   "interpreter": {
    "hash": "95b59b4b0e72d3e94105c3ab4f1a1e6e746e4c2a7c235241251baf92fb36381f"
   }
  }
 },
 "nbformat": 4,
 "nbformat_minor": 2
}
